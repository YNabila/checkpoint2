{
 "cells": [
  {
   "cell_type": "code",
   "execution_count": 6,
   "id": "1094a2b9",
   "metadata": {},
   "outputs": [
    {
     "name": "stdout",
     "output_type": "stream",
     "text": [
      "n= :5\n"
     ]
    }
   ],
   "source": [
    "n=input(\"n= :\")"
   ]
  },
  {
   "cell_type": "code",
   "execution_count": 9,
   "id": "ceace19a",
   "metadata": {},
   "outputs": [],
   "source": [
    "x=int(n)+int(n+n)+int(n+n+n)"
   ]
  },
  {
   "cell_type": "code",
   "execution_count": 10,
   "id": "25a68f33",
   "metadata": {},
   "outputs": [
    {
     "name": "stdout",
     "output_type": "stream",
     "text": [
      "615\n"
     ]
    }
   ],
   "source": [
    "print(x)"
   ]
  },
  {
   "cell_type": "code",
   "execution_count": 11,
   "id": "18393ac8",
   "metadata": {},
   "outputs": [
    {
     "name": "stdout",
     "output_type": "stream",
     "text": [
      "first name :nabila\n"
     ]
    }
   ],
   "source": [
    "first=input(\"first name :\")"
   ]
  },
  {
   "cell_type": "raw",
   "id": "4ba15d23",
   "metadata": {},
   "source": []
  },
  {
   "cell_type": "code",
   "execution_count": 13,
   "id": "de7e3dfc",
   "metadata": {},
   "outputs": [
    {
     "name": "stdout",
     "output_type": "stream",
     "text": [
      "last name : yeddou\n"
     ]
    }
   ],
   "source": [
    "last=input(\"last name : \")"
   ]
  },
  {
   "cell_type": "code",
   "execution_count": 14,
   "id": "da32ffbc",
   "metadata": {},
   "outputs": [
    {
     "name": "stdout",
     "output_type": "stream",
     "text": [
      "yeddou nabila\n"
     ]
    }
   ],
   "source": [
    "print(last, first)"
   ]
  },
  {
   "cell_type": "code",
   "execution_count": 16,
   "id": "2cf2e027",
   "metadata": {},
   "outputs": [
    {
     "name": "stdout",
     "output_type": "stream",
     "text": [
      "aliban\n"
     ]
    }
   ],
   "source": [
    "i= -1\n",
    "b=\"\"\n",
    "while i>=-len(first):\n",
    "    \n",
    "    b=b+(first[i])\n",
    "    i=i-1\n",
    "print(b)"
   ]
  },
  {
   "cell_type": "code",
   "execution_count": 31,
   "id": "bf6b4595",
   "metadata": {},
   "outputs": [
    {
     "name": "stdout",
     "output_type": "stream",
     "text": [
      "give a number : 20\n"
     ]
    }
   ],
   "source": [
    "number=input(\"give a number : \")"
   ]
  },
  {
   "cell_type": "code",
   "execution_count": 32,
   "id": "365f17aa",
   "metadata": {},
   "outputs": [
    {
     "name": "stdout",
     "output_type": "stream",
     "text": [
      "number is even\n"
     ]
    }
   ],
   "source": [
    "if int(number)%2==0 :\n",
    "    print(\"number is even\")\n",
    "else :\n",
    "    print(\"number is odd\")"
   ]
  },
  {
   "cell_type": "code",
   "execution_count": 41,
   "id": "e99c3887",
   "metadata": {},
   "outputs": [
    {
     "name": "stdout",
     "output_type": "stream",
     "text": [
      "2002, 2009, 2016, 2023, 2037, 2044, 2051, 2058, 2072, 2079, 2086, 2093, 2107, 2114, 2121, 2128, 2142, 2149, 2156, 2163, 2177, 2184, 2191, 2198, 2212, 2219, 2226, 2233, 2247, 2254, 2261, 2268, 2282, 2289, 2296, 2303, 2317, 2324, 2331, 2338, 2352, 2359, 2366, 2373, 2387, 2394, 2401, 2408, 2422, 2429, 2436, 2443, 2457, 2464, 2471, 2478, 2492, 2499, 2506, 2513, 2527, 2534, 2541, 2548, 2562, 2569, 2576, 2583, 2597, 2604, 2611, 2618, 2632, 2639, 2646, 2653, 2667, 2674, 2681, 2688, 2702, 2709, 2716, 2723, 2737, 2744, 2751, 2758, 2772, 2779, 2786, 2793, 2807, 2814, 2821, 2828, 2842, 2849, 2856, 2863, 2877, 2884, 2891, 2898, 2912, 2919, 2926, 2933, 2947, 2954, 2961, 2968, 2982, 2989, 2996, 3003, 3017, 3024, 3031, 3038, 3052, 3059, 3066, 3073, 3087, 3094, 3101, 3108, 3122, 3129, 3136, 3143, 3157, 3164, 3171, 3178, 3192, 3199, "
     ]
    }
   ],
   "source": [
    " for i in range(2000,3201) :\n",
    "    if i%7==0 and i%5!=0 :\n",
    "        print(i,end=\", \")\n",
    "      \n",
    " "
   ]
  },
  {
   "cell_type": "code",
   "execution_count": 122,
   "id": "66cd993c",
   "metadata": {},
   "outputs": [
    {
     "name": "stdout",
     "output_type": "stream",
     "text": [
      "give a number : 4\n"
     ]
    }
   ],
   "source": [
    "num=input(\"give a number : \")"
   ]
  },
  {
   "cell_type": "code",
   "execution_count": 123,
   "id": "c05f998b",
   "metadata": {},
   "outputs": [
    {
     "name": "stdout",
     "output_type": "stream",
     "text": [
      "24\n"
     ]
    }
   ],
   "source": [
    "fact_num=1\n",
    "for i in range(1,int(num)+1):\n",
    "    fact_num=fact_num*i\n",
    "print(fact_num)\n",
    "    "
   ]
  },
  {
   "cell_type": "code",
   "execution_count": 110,
   "id": "7151385e",
   "metadata": {},
   "outputs": [
    {
     "name": "stdout",
     "output_type": "stream",
     "text": [
      "give a string : coding\n"
     ]
    }
   ],
   "source": [
    "mot=input(\"give a string : \")"
   ]
  },
  {
   "cell_type": "code",
   "execution_count": 111,
   "id": "5636c916",
   "metadata": {},
   "outputs": [
    {
     "name": "stdout",
     "output_type": "stream",
     "text": [
      "cdn\n"
     ]
    }
   ],
   "source": [
    "nv_mot=\"\"\n",
    "for i in range(len(mot)) :\n",
    "    if i%2==0:\n",
    "        nv_mot=nv_mot+mot[i]\n",
    "print(nv_mot)\n",
    "     \n",
    "    "
   ]
  },
  {
   "cell_type": "code",
   "execution_count": 114,
   "id": "c35a287d",
   "metadata": {},
   "outputs": [
    {
     "name": "stdout",
     "output_type": "stream",
     "text": [
      "250\n"
     ]
    }
   ],
   "source": [
    "price=int(input())"
   ]
  },
  {
   "cell_type": "code",
   "execution_count": 115,
   "id": "f6fd05fa",
   "metadata": {},
   "outputs": [
    {
     "name": "stdout",
     "output_type": "stream",
     "text": [
      "the discount,  75.0\n"
     ]
    }
   ],
   "source": [
    "if price>=500:\n",
    "     \n",
    "    print(\"the discount, \",price*0.5)\n",
    "elif price>=200 and price<500:\n",
    "    print(\"the discount, \",price*0.3)\n",
    "else:\n",
    "     print(\"the discount, \",price*0.1)"
   ]
  },
  {
   "cell_type": "code",
   "execution_count": null,
   "id": "f7f4d357",
   "metadata": {},
   "outputs": [],
   "source": []
  }
 ],
 "metadata": {
  "kernelspec": {
   "display_name": "Python 3 (ipykernel)",
   "language": "python",
   "name": "python3"
  },
  "language_info": {
   "codemirror_mode": {
    "name": "ipython",
    "version": 3
   },
   "file_extension": ".py",
   "mimetype": "text/x-python",
   "name": "python",
   "nbconvert_exporter": "python",
   "pygments_lexer": "ipython3",
   "version": "3.9.12"
  }
 },
 "nbformat": 4,
 "nbformat_minor": 5
}
